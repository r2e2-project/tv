{
 "cells": [
  {
   "cell_type": "code",
   "execution_count": 125,
   "metadata": {},
   "outputs": [],
   "source": [
    "import numpy as np \n",
    "import ast \n",
    "import sys"
   ]
  },
  {
   "cell_type": "code",
   "execution_count": 120,
   "metadata": {},
   "outputs": [
    {
     "name": "stdout",
     "output_type": "stream",
     "text": [
      "[node_idx: 236858,Bounds: [[43.913,258.652,-62.061],[45.027,259.153,-61.275]],2COffset: 0,depth: 17],\n",
      "\n",
      "{236858: {'Bounds': [[43.913, 258.652, -62.061], [45.027, 259.153, -61.275]], '2COffset': 0, 'depth': 17}}\n"
     ]
    }
   ],
   "source": [
    "f= open(\"output.txt\",\"r\")\n",
    "lines = f.readlines()[0:-1]\n",
    "example_line = lines[-1]\n",
    "print(example_line)\n",
    "def parse_bvh_node_line(line: str,node_dict=None):\n",
    "    if node_dict is  None: \n",
    "        node_dict = {}\n",
    "    line_dict = {}\n",
    "    parsed_line = line.strip(\"][\")\n",
    "    parsed_line = parsed_line.strip(\"],\\n\")\n",
    "    list_line = parsed_line\n",
    "        \n",
    "    node_start_idx = 0\n",
    "    node_end_idx = list_line.rfind(\",Bounds\")\n",
    "    node_section = list_line[node_start_idx:node_end_idx].split(\":\")\n",
    "#     line_dict[node_section[0]] = int(node_section[1])\n",
    "    \n",
    "    bounds_start_idx = node_end_idx + 1\n",
    "    bounds_end_idx = list_line.rfind(\",2COffset\")\n",
    "    bounds_section = list_line[bounds_start_idx:bounds_end_idx].split(\":\")\n",
    "    line_dict[bounds_section[0]] = ast.literal_eval(bounds_section[1].strip(\" \"))\n",
    "    \n",
    "    childOffset_start_idx = bounds_end_idx + 1\n",
    "    childOffset_end_idx = list_line.rfind(\",depth\")\n",
    "    childOffset_section = list_line[childOffset_start_idx:childOffset_end_idx].split(\":\")\n",
    "    line_dict[childOffset_section[0]] = int(childOffset_section[1])\n",
    "    \n",
    "    depth_start_idx = childOffset_end_idx + 1\n",
    "    depth_section = list_line[depth_start_idx:].split(\":\")\n",
    "    line_dict[depth_section[0]] = int(depth_section[1])\n",
    "    \n",
    "    node_dict[int(node_section[1])] = line_dict\n",
    "    \n",
    "    return node_dict\n",
    "print(parse_bvh_node_line(example_line))\n",
    "# lines = f.readlines();\n",
    "# for line in lines:\n",
    "#     print(line)"
   ]
  },
  {
   "cell_type": "code",
   "execution_count": 122,
   "metadata": {},
   "outputs": [
    {
     "name": "stdout",
     "output_type": "stream",
     "text": [
      "{'Bounds': [[-1000.0, -1000.0, -1140.0], [1000.0, 1000.0, 860.0]], '2COffset': 47100, 'depth': 0}\n"
     ]
    }
   ],
   "source": [
    "node_dict = {}\n",
    "for line in lines:\n",
    "     parse_bvh_node_line(line,node_dict)"
   ]
  },
  {
   "cell_type": "code",
   "execution_count": 127,
   "metadata": {},
   "outputs": [
    {
     "name": "stdout",
     "output_type": "stream",
     "text": [
      "10485864\n"
     ]
    }
   ],
   "source": [
    "print(sys.getsizeof(node_dict))"
   ]
  },
  {
   "cell_type": "code",
   "execution_count": null,
   "metadata": {},
   "outputs": [],
   "source": []
  }
 ],
 "metadata": {
  "kernelspec": {
   "display_name": "Python 3",
   "language": "python",
   "name": "python3"
  },
  "language_info": {
   "codemirror_mode": {
    "name": "ipython",
    "version": 3
   },
   "file_extension": ".py",
   "mimetype": "text/x-python",
   "name": "python",
   "nbconvert_exporter": "python",
   "pygments_lexer": "ipython3",
   "version": "3.7.2"
  }
 },
 "nbformat": 4,
 "nbformat_minor": 2
}
