{
 "cells": [
  {
   "cell_type": "code",
   "execution_count": 142,
   "metadata": {},
   "outputs": [],
   "source": [
    "import numpy as np \n",
    "import ast \n",
    "import sys\n",
    "import json "
   ]
  },
  {
   "cell_type": "code",
   "execution_count": 144,
   "metadata": {},
   "outputs": [],
   "source": [
    "# f= open(\"output.txt\",\"r\")\n",
    "# lines = f.readlines()[0:-1]\n",
    "# example_line = lines[-1]\n",
    "# print(example_line)\n",
    "def parse_bvh_node_line(line: str):\n",
    "    line_dict = {}\n",
    "    parsed_line = line.strip(\"][\")\n",
    "    parsed_line = parsed_line.strip(\"],\\n\")\n",
    "    list_line = parsed_line\n",
    "        \n",
    "    node_start_idx = 0\n",
    "    node_end_idx = list_line.rfind(\",Bounds\")\n",
    "    node_section = list_line[node_start_idx:node_end_idx].split(\":\")\n",
    "    line_dict[node_section[0]] = int(node_section[1])\n",
    "    \n",
    "    bounds_start_idx = node_end_idx + 1\n",
    "    bounds_end_idx = list_line.rfind(\",2COffset\")\n",
    "    bounds_section = list_line[bounds_start_idx:bounds_end_idx].split(\":\")\n",
    "    line_dict[bounds_section[0]] = ast.literal_eval(bounds_section[1].strip(\" \"))\n",
    "    \n",
    "    childOffset_start_idx = bounds_end_idx + 1\n",
    "    childOffset_end_idx = list_line.rfind(\",depth\")\n",
    "    childOffset_secttravAlgoion = list_line[childOffset_start_idx:childOffset_end_idx].split(\":\")\n",
    "    line_dict[childOffset_section[0]] = int(childOffset_section[1])\n",
    "    \n",
    "    depth_start_idx = childOffset_end_idx + 1\n",
    "    depth_section = list_line[depth_start_idx:].split(\":\")\n",
    "    line_dict[depth_section[0]] = int(depth_section[1])\n",
    "    \n",
    "    return line_dict\n",
    "# print(parse_bvh_node_line(example_line))\n",
    "\n",
    "def parse_bvh_node_file(filename: str):\n",
    "    f = open(filename,\"r\")\n",
    "    lines = f.readlines()[0:-1]\n",
    "    node_list = []\n",
    "    for line in lines:\n",
    "        node_list.append(parse_bvh_node_line(line))\n",
    "    return node_list"
   ]
  },
  {
   "cell_type": "code",
   "execution_count": 146,
   "metadata": {},
   "outputs": [],
   "source": [
    "node_list = parse_bvh_node_file(\"output.txt\")"
   ]
  },
  {
   "cell_type": "code",
   "execution_count": 149,
   "metadata": {},
   "outputs": [
    {
     "data": {
      "text/plain": [
       "2115952"
      ]
     },
     "execution_count": 149,
     "metadata": {},
     "output_type": "execute_result"
    }
   ],
   "source": [
    "sys.getsizeof(node_list)"
   ]
  },
  {
   "cell_type": "code",
   "execution_count": 150,
   "metadata": {},
   "outputs": [],
   "source": [
    "json_dump = json.dumps(node_list)"
   ]
  },
  {
   "cell_type": "code",
   "execution_count": 151,
   "metadata": {},
   "outputs": [
    {
     "data": {
      "text/plain": [
       "28882632"
      ]
     },
     "execution_count": 151,
     "metadata": {},
     "output_type": "execute_result"
    }
   ],
   "source": [
    "sys.getsizeof(json_dump)"
   ]
  },
  {
   "cell_type": "code",
   "execution_count": 196,
   "metadata": {},
   "outputs": [],
   "source": [
    "# file = open(\"output_treelet.txt\")\n",
    "# lines = file.readlines()[0:-1]\n",
    "# example_line = lines[1]\n",
    "def parse_treelet_line(line: str):\n",
    "    line_dict = {}\n",
    "    parsed_line = line.strip(\"][,\\n\")\n",
    "    \n",
    "    treelet_start_idx = 0;\n",
    "    treelet_end_idx = parsed_line.rfind(\",nodes:\")\n",
    "    treelet_section = parsed_line[treelet_start_idx:treelet_end_idx].split(\":\")\n",
    "    line_dict[treelet_section[0]] = int(treelet_section[1])\n",
    "    \n",
    "    node_start_idx = treelet_end_idx + 1\n",
    "    node_section = parsed_line[node_start_idx:].split(\":\")\n",
    "    line_dict[node_section[0]] = ast.literal_eval((node_section[1] + \"]\").strip(\" \"))\n",
    "    \n",
    "    return line_dict\n",
    "# print(parse_treelet_line(example_line))\n",
    "def parse_treelet_file(filename: str):\n",
    "    file = open(filename,\"r\")\n",
    "    lines = file.readlines()[0:-1]\n",
    "    node_list = []\n",
    "    for line in lines:\n",
    "        node_list.append(parse_treelet_line(line))\n",
    "    return node_list\n",
    "    "
   ]
  },
  {
   "cell_type": "code",
   "execution_count": 212,
   "metadata": {},
   "outputs": [],
   "source": [
    "treelet_node_list = parse_treelet_file(\"output_treelet.txt\")"
   ]
  },
  {
   "cell_type": "code",
   "execution_count": 213,
   "metadata": {},
   "outputs": [
    {
     "data": {
      "text/plain": [
       "264"
      ]
     },
     "execution_count": 213,
     "metadata": {},
     "output_type": "execute_result"
    }
   ],
   "source": [
    "sys.getsizeof(treelet_node_list)"
   ]
  },
  {
   "cell_type": "code",
   "execution_count": 210,
   "metadata": {},
   "outputs": [],
   "source": [
    "treelet_json_dump = json.dumps(treelet_node_list)"
   ]
  },
  {
   "cell_type": "code",
   "execution_count": 211,
   "metadata": {},
   "outputs": [
    {
     "data": {
      "text/plain": [
       "14270903"
      ]
     },
     "execution_count": 211,
     "metadata": {},
     "output_type": "execute_result"
    }
   ],
   "source": [
    "sys.getsizeof(treelet_json_dump)"
   ]
  },
  {
   "cell_type": "code",
   "execution_count": null,
   "metadata": {},
   "outputs": [],
   "source": []
  }
 ],
 "metadata": {
  "kernelspec": {
   "display_name": "Python 3",
   "language": "python",
   "name": "python3"
  },
  "language_info": {
   "codemirror_mode": {
    "name": "ipython",
    "version": 3
   },
   "file_extension": ".py",
   "mimetype": "text/x-python",
   "name": "python",
   "nbconvert_exporter": "python",
   "pygments_lexer": "ipython3",
   "version": "3.7.2"
  }
 },
 "nbformat": 4,
 "nbformat_minor": 2
}
